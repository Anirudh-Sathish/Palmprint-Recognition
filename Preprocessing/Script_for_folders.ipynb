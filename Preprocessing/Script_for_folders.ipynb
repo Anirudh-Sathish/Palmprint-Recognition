{
 "cells": [
  {
   "cell_type": "code",
   "execution_count": 2,
   "metadata": {},
   "outputs": [],
   "source": [
    "import glob\n",
    "import os\n",
    "from pathlib import Path\n",
    "from shutil import copyfile\n",
    "import splitfolders\n",
    "\n",
    "# Step 1: List all the image files in the folder\n",
    "images_path = 'ROI/session1/'\n",
    "images = glob.glob(f'{images_path}/*.bmp')\n",
    "\n",
    "# Step 2: Create new folders named from 001 to 600\n",
    "output_base_path = 'ROI/classes/session1/'\n",
    "for i in range(1, 601):\n",
    "    folder_name = f\"{output_base_path}/{str(i).zfill(3)}\"\n",
    "    os.makedirs(folder_name, exist_ok=True)\n",
    "\n",
    "# Step 3: Distribute the images into the created folders\n",
    "for index, image_path in enumerate(images):\n",
    "    folder_index = (index // 10) + 1\n",
    "    folder_name = f\"{output_base_path}/{str(folder_index).zfill(3)}\"\n",
    "    image_filename = Path(image_path).name\n",
    "    output_path = f\"{folder_name}/{image_filename}\"\n",
    "    copyfile(image_path, output_path)\n"
   ]
  },
  {
   "cell_type": "code",
   "execution_count": 3,
   "metadata": {},
   "outputs": [],
   "source": [
    "# Step 1: List all the image files in the folder\n",
    "images_path = 'ROI/session2/'\n",
    "images = glob.glob(f'{images_path}/*.bmp')\n",
    "\n",
    "# Step 2: Create new folders named from 001 to 600\n",
    "output_base_path = 'ROI/classes/session2/'\n",
    "for i in range(1, 601):\n",
    "    folder_name = f\"{output_base_path}/{str(i).zfill(3)}\"\n",
    "    os.makedirs(folder_name, exist_ok=True)\n",
    "\n",
    "# Step 3: Distribute the images into the created folders\n",
    "for index, image_path in enumerate(images):\n",
    "    folder_index = (index // 10) + 1\n",
    "    folder_name = f\"{output_base_path}/{str(folder_index).zfill(3)}\"\n",
    "    image_filename = Path(image_path).name\n",
    "    output_path = f\"{folder_name}/{image_filename}\"\n",
    "    copyfile(image_path, output_path)"
   ]
  },
  {
   "cell_type": "code",
   "execution_count": 5,
   "metadata": {},
   "outputs": [
    {
     "name": "stderr",
     "output_type": "stream",
     "text": [
      "Copying files: 6000 files [00:17, 335.21 files/s]\n"
     ]
    }
   ],
   "source": [
    "input_folder = \"ROI/classes/session1/\"\n",
    "output_folder = \"basedata_ROI/session1\"\n",
    "\n",
    "splitfolders.ratio(input_folder, output=output_folder, seed=42, ratio=(0.7, 0.2, 0.1))"
   ]
  },
  {
   "cell_type": "code",
   "execution_count": 6,
   "metadata": {},
   "outputs": [
    {
     "name": "stderr",
     "output_type": "stream",
     "text": [
      "Copying files: 6000 files [00:18, 319.79 files/s]\n"
     ]
    }
   ],
   "source": [
    "input_folder = \"ROI/classes/session2/\"\n",
    "output_folder = \"basedata_ROI/session2\"\n",
    "\n",
    "splitfolders.ratio(input_folder, output=output_folder, seed=42, ratio=(0.7, 0.2, 0.1))"
   ]
  },
  {
   "cell_type": "code",
   "execution_count": null,
   "metadata": {},
   "outputs": [],
   "source": []
  }
 ],
 "metadata": {
  "kernelspec": {
   "display_name": "base",
   "language": "python",
   "name": "python3"
  },
  "language_info": {
   "codemirror_mode": {
    "name": "ipython",
    "version": 3
   },
   "file_extension": ".py",
   "mimetype": "text/x-python",
   "name": "python",
   "nbconvert_exporter": "python",
   "pygments_lexer": "ipython3",
   "version": "3.9.16"
  },
  "orig_nbformat": 4
 },
 "nbformat": 4,
 "nbformat_minor": 2
}
