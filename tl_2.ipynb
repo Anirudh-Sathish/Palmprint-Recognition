{
 "cells": [
  {
   "cell_type": "code",
   "execution_count": 22,
   "metadata": {},
   "outputs": [],
   "source": [
    "# import libs \n",
    "import torch \n",
    "import torch.nn as nn \n",
    "import torch.optim as optim \n",
    "from torch.optim import lr_scheduler\n",
    "import numpy as np \n",
    "import torchvision \n",
    "from torchvision import datasets,transforms,models \n",
    "from torch.utils.data import DataLoader\n",
    "import matplotlib.pyplot as plt \n",
    "import time \n",
    "import os \n",
    "import copy \n",
    "import glob "
   ]
  },
  {
   "cell_type": "code",
   "execution_count": 23,
   "metadata": {},
   "outputs": [
    {
     "data": {
      "text/plain": [
       "device(type='cpu')"
      ]
     },
     "execution_count": 23,
     "metadata": {},
     "output_type": "execute_result"
    }
   ],
   "source": [
    "device = torch.device('cuda' if torch.cuda.is_available() else 'cpu')\n",
    "device"
   ]
  },
  {
   "cell_type": "code",
   "execution_count": 24,
   "metadata": {},
   "outputs": [],
   "source": [
    "# Transforms\n",
    "transformer = transforms.Compose([\n",
    "    transforms.Resize((150,150)),\n",
    "    transforms.RandomHorizontalFlip(),\n",
    "    transforms.ToTensor(),\n",
    "    transforms.Normalize([0.5 , 0.5 , 0.5 ],[0.5 , 0.5 , 0.5 ]),\n",
    "])"
   ]
  },
  {
   "cell_type": "code",
   "execution_count": 25,
   "metadata": {},
   "outputs": [],
   "source": [
    "# set directory paths \n",
    "base_dir = \"basedata\"\n",
    "training = \"training\"\n",
    "validationString = \"validation\"\n",
    "\n",
    "# training ,validation locations \n",
    "training_path = os.path.join(base_dir,training)\n",
    "test_path = os.path.join(base_dir,\"testing\")"
   ]
  },
  {
   "cell_type": "code",
   "execution_count": 26,
   "metadata": {},
   "outputs": [],
   "source": [
    "# DataLoader \n",
    "train_loader = DataLoader(\n",
    "    torchvision.datasets.ImageFolder(training_path , transform = transformer),\n",
    "    batch_size = 12 , shuffle= True\n",
    ")\n",
    "test_loader = DataLoader(\n",
    "    torchvision.datasets.ImageFolder(test_path , transform = transformer),\n",
    "    batch_size = 12 , shuffle= True\n",
    ")"
   ]
  },
  {
   "cell_type": "code",
   "execution_count": 27,
   "metadata": {},
   "outputs": [],
   "source": [
    "# get classes \n",
    "classes = os.listdir(training_path)"
   ]
  },
  {
   "cell_type": "code",
   "execution_count": 28,
   "metadata": {},
   "outputs": [],
   "source": [
    "\n",
    "# Set HyperParameters \n",
    "num_epochs = 3 \n",
    "batch_size = 4 \n",
    "learning_rate = 0.001\n",
    "# Tune this later based on performance "
   ]
  },
  {
   "cell_type": "code",
   "execution_count": 29,
   "metadata": {},
   "outputs": [],
   "source": [
    "class TransferLearning(nn.Module):\n",
    "    def __init__(self,num_classes = 41):\n",
    "        super(TransferLearning,self).__init__()\n",
    "        self.model = models.resnet18(pretrained = True)\n",
    "        input = self.model.fc.in_features\n",
    "\n",
    "        # setting final layer\n",
    "        self.model.fc = nn.Linear(input,num_classes)\n",
    "    def forward(self,input):\n",
    "        output = self.model(input)\n",
    "        return output"
   ]
  },
  {
   "cell_type": "code",
   "execution_count": 30,
   "metadata": {},
   "outputs": [],
   "source": [
    "model = TransferLearning(num_classes=41).to(device)"
   ]
  },
  {
   "cell_type": "code",
   "execution_count": 34,
   "metadata": {},
   "outputs": [
    {
     "name": "stdout",
     "output_type": "stream",
     "text": [
      "Epoch 0 , Loss : 3.708106279373169\n",
      "Epoch 1 , Loss : 3.911158561706543\n",
      "Epoch 2 , Loss : 4.251499652862549\n",
      "Finished Training\n"
     ]
    }
   ],
   "source": [
    "criterion = nn.CrossEntropyLoss()\n",
    "optimizer = optim.SGD(model.parameters(),lr = 0.001)\n",
    "\n",
    "n_total_steps = len(train_loader)\n",
    "\n",
    "for epoch in range(num_epochs):\n",
    "    for i , (images,labels) in enumerate(train_loader):\n",
    "        images = images.to(device)\n",
    "        labels = labels.to(device)\n",
    "\n",
    "\n",
    "        # Forward pass \n",
    "        outputs = model(images)\n",
    "        loss = criterion(outputs,labels)\n",
    "\n",
    "        # Backward pass \n",
    "        optimizer.zero_grad()\n",
    "        loss.backward()\n",
    "        optimizer.step()\n",
    "\n",
    "\n",
    "    # if (i+1) % 2 == 0:\n",
    "    print('Epoch {} , Loss : {}'.format(epoch,loss.item())) \n",
    "\n",
    "print('Finished Training')"
   ]
  },
  {
   "cell_type": "code",
   "execution_count": 35,
   "metadata": {},
   "outputs": [
    {
     "name": "stdout",
     "output_type": "stream",
     "text": [
      "Accuracy  : 81.05590062111801 % \n",
      "Accuracy of 023  : 100.0 %\n",
      "Accuracy of 004  : 100.0 %\n",
      "Accuracy of 033  : 100.0 %\n",
      "Accuracy of 037  : 75.0 %\n",
      "Accuracy of 010  : 0.0 %\n",
      "Accuracy of 013  : 100.0 %\n",
      "Accuracy of 035  : 100.0 %\n",
      "Accuracy of 039  : 75.0 %\n",
      "Accuracy of 001  : 100.0 %\n",
      "Accuracy of 025  : 100.0 %\n",
      "Accuracy of 041  : 100.0 %\n",
      "Accuracy of 029  : 66.66666666666667 %\n",
      "Accuracy of 016  : 100.0 %\n",
      "Accuracy of 009  : 100.0 %\n",
      "Accuracy of 026  : 100.0 %\n",
      "Accuracy of 028  : 100.0 %\n",
      "Accuracy of 022  : 100.0 %\n",
      "Accuracy of 006  : 50.0 %\n",
      "Accuracy of 027  : 100.0 %\n",
      "Accuracy of 030  : 75.0 %\n",
      "Accuracy of 002  : 0.0 %\n",
      "Accuracy of 034  : 100.0 %\n",
      "Accuracy of 021  : 100.0 %\n",
      "Accuracy of 024  : 0.0 %\n",
      "Accuracy of 005  : 100.0 %\n",
      "Accuracy of 031  : 100.0 %\n",
      "Accuracy of 007  : 50.0 %\n",
      "Accuracy of 008  : 100.0 %\n",
      "Accuracy of 017  : 66.66666666666667 %\n",
      "Accuracy of 014  : 100.0 %\n",
      "Accuracy of 020  : 75.0 %\n",
      "Accuracy of 036  : 100.0 %\n",
      "Accuracy of 038  : 100.0 %\n",
      "Accuracy of 015  : 50.0 %\n",
      "Accuracy of 011  : 100.0 %\n",
      "Accuracy of 019  : 25.0 %\n",
      "Accuracy of 032  : 100.0 %\n",
      "Accuracy of 018  : 50.0 %\n",
      "Accuracy of 040  : 50.0 %\n",
      "Accuracy of 012  : 100.0 %\n",
      "Accuracy of 003  : 100.0 %\n"
     ]
    }
   ],
   "source": [
    "# For testing \n",
    "with torch.no_grad():\n",
    "    n_correct = 0 \n",
    "    n_samples = 0 \n",
    "    n_class_correct = [0 for i in range(len(classes))]\n",
    "    n_class_samples = [0 for i in range(len(classes))]\n",
    "\n",
    "    for images,labels in test_loader:\n",
    "        images = images.to(device)\n",
    "        labels = labels.to(device)\n",
    "\n",
    "        outputs = model(images)\n",
    "\n",
    "        _ , predicted = torch.max(outputs , 1)\n",
    "        n_samples +=labels.size(0)\n",
    "        n_correct += (predicted == labels).sum().item()\n",
    "\n",
    "        for i in range(batch_size):\n",
    "            label = labels[i]\n",
    "            pred = predicted[i]\n",
    "\n",
    "            if (label == pred):\n",
    "                n_class_correct[label] +=1\n",
    "            n_class_samples[label]+=1\n",
    "    \n",
    "    accuracy = 100.0* n_correct/n_samples \n",
    "    print('Accuracy  : {} % '.format(accuracy))\n",
    "\n",
    "    for i in range(len(classes)):\n",
    "        if n_class_samples[i] == 0:\n",
    "            print('Didnt get the sample in test ')\n",
    "        else:\n",
    "            acc = 100*n_class_correct[i]/n_class_samples[i]\n",
    "            print('Accuracy of {}  : {} %'.format(classes[i],acc))"
   ]
  },
  {
   "cell_type": "code",
   "execution_count": null,
   "metadata": {},
   "outputs": [],
   "source": []
  }
 ],
 "metadata": {
  "kernelspec": {
   "display_name": "Python 3.9.15 ('base')",
   "language": "python",
   "name": "python3"
  },
  "language_info": {
   "codemirror_mode": {
    "name": "ipython",
    "version": 3
   },
   "file_extension": ".py",
   "mimetype": "text/x-python",
   "name": "python",
   "nbconvert_exporter": "python",
   "pygments_lexer": "ipython3",
   "version": "3.9.15"
  },
  "orig_nbformat": 4,
  "vscode": {
   "interpreter": {
    "hash": "6abc19a8e1fc5a4ded62ce588c026b0071d26d608f7dba32576a5a9967215991"
   }
  }
 },
 "nbformat": 4,
 "nbformat_minor": 2
}
