{
 "cells": [
  {
   "cell_type": "code",
   "execution_count": 1,
   "metadata": {},
   "outputs": [
    {
     "name": "stderr",
     "output_type": "stream",
     "text": [
      "/home/anirudh/.local/lib/python3.8/site-packages/pandas/core/computation/expressions.py:20: UserWarning: Pandas requires version '2.7.3' or newer of 'numexpr' (version '2.7.1' currently installed).\n",
      "  from pandas.core.computation.check import NUMEXPR_INSTALLED\n"
     ]
    }
   ],
   "source": [
    "# libs \n",
    "import numpy as np \n",
    "\n",
    "import cv2 \n",
    "import pandas as pd \n",
    "import matplotlib.pyplot as plt \n",
    "import os "
   ]
  },
  {
   "cell_type": "markdown",
   "metadata": {},
   "source": [
    "Get the data and split them into random test and train "
   ]
  },
  {
   "cell_type": "code",
   "execution_count": 2,
   "metadata": {},
   "outputs": [],
   "source": [
    "def get_sift_features(img, dect_type='sift'):\n",
    "    if dect_type == 'sift':\n",
    "        sift = cv2.SIFT_create()\n",
    "    elif dect_type == 'surf':\n",
    "        sift = cv2.SURF_create()\n",
    "    kp, des = sift.detectAndCompute(img, None)  \n",
    "    return kp, des\n"
   ]
  },
  {
   "cell_type": "code",
   "execution_count": 3,
   "metadata": {},
   "outputs": [],
   "source": [
    "def train_grp(img_file):\n",
    "    # reads in grayscale \n",
    "    img = cv2.imread(img_file,0)\n",
    "    # histogram equalize it \n",
    "    equalized = cv2.equalizeHist(img)\n",
    "    \n",
    "    # apply sift \n",
    "    sift = cv2.SIFT_create()\n",
    "    kp , des = sift.detectAndCompute(equalized, None)  \n",
    "    return des \n"
   ]
  },
  {
   "cell_type": "code",
   "execution_count": 4,
   "metadata": {},
   "outputs": [],
   "source": [
    "def test_grp(img_file):\n",
    "    # reads in grayscale \n",
    "    img = cv2.imread(img_file,0)\n",
    "    # histogram equalize it \n",
    "    equalized = cv2.equalizeHist(img)\n",
    "    \n",
    "    # apply sift \n",
    "    sift = cv2.SIFT_create()\n",
    "    kp , des = sift.detectAndCompute(equalized, None)  \n",
    "    return des "
   ]
  },
  {
   "cell_type": "code",
   "execution_count": 5,
   "metadata": {},
   "outputs": [
    {
     "ename": "KeyboardInterrupt",
     "evalue": "",
     "output_type": "error",
     "traceback": [
      "\u001b[0;31m---------------------------------------------------------------------------\u001b[0m",
      "\u001b[0;31mKeyboardInterrupt\u001b[0m                         Traceback (most recent call last)",
      "Cell \u001b[0;32mIn[5], line 11\u001b[0m\n\u001b[1;32m      9\u001b[0m file_loc \u001b[39m=\u001b[39m sub_f\u001b[39m+\u001b[39m\u001b[39m\"\u001b[39m\u001b[39m/\u001b[39m\u001b[39m\"\u001b[39m\u001b[39m+\u001b[39mfile\n\u001b[1;32m     10\u001b[0m \u001b[39mif\u001b[39;00m(i\u001b[39m%\u001b[39m\u001b[39m4\u001b[39m \u001b[39m!=\u001b[39m \u001b[39m0\u001b[39m):\n\u001b[0;32m---> 11\u001b[0m     data \u001b[39m=\u001b[39m train_grp(file_loc)\n\u001b[1;32m     12\u001b[0m     train_dataset\u001b[39m.\u001b[39mappend(data)\n\u001b[1;32m     13\u001b[0m \u001b[39melse\u001b[39;00m:\n",
      "Cell \u001b[0;32mIn[3], line 9\u001b[0m, in \u001b[0;36mtrain_grp\u001b[0;34m(img_file)\u001b[0m\n\u001b[1;32m      7\u001b[0m \u001b[39m# apply sift \u001b[39;00m\n\u001b[1;32m      8\u001b[0m sift \u001b[39m=\u001b[39m cv2\u001b[39m.\u001b[39mSIFT_create()\n\u001b[0;32m----> 9\u001b[0m kp , des \u001b[39m=\u001b[39m sift\u001b[39m.\u001b[39;49mdetectAndCompute(equalized, \u001b[39mNone\u001b[39;49;00m)  \n\u001b[1;32m     10\u001b[0m \u001b[39mreturn\u001b[39;00m des\n",
      "\u001b[0;31mKeyboardInterrupt\u001b[0m: "
     ]
    }
   ],
   "source": [
    "dest_f = \"BMPD_db\"\n",
    "i = 0 \n",
    "train_dataset = [ ]\n",
    "test_dataset = [ ]\n",
    "# move every one in 4 to test \n",
    "for files in os.listdir(dest_f):\n",
    "    sub_f = dest_f+\"/\"+files\n",
    "    for file in os.listdir(sub_f):\n",
    "        file_loc = sub_f+\"/\"+file\n",
    "        if(i%4 != 0):\n",
    "            data = train_grp(file_loc)\n",
    "            train_dataset.append(data)\n",
    "        else:\n",
    "            data = test_grp(file_loc)\n",
    "            test_dataset.append(data)\n",
    "        i+= 1\n",
    "\n",
    "    "
   ]
  },
  {
   "cell_type": "code",
   "execution_count": null,
   "metadata": {},
   "outputs": [],
   "source": []
  },
  {
   "cell_type": "code",
   "execution_count": null,
   "metadata": {},
   "outputs": [],
   "source": []
  }
 ],
 "metadata": {
  "kernelspec": {
   "display_name": "Python 3.8.10 64-bit",
   "language": "python",
   "name": "python3"
  },
  "language_info": {
   "codemirror_mode": {
    "name": "ipython",
    "version": 3
   },
   "file_extension": ".py",
   "mimetype": "text/x-python",
   "name": "python",
   "nbconvert_exporter": "python",
   "pygments_lexer": "ipython3",
   "version": "3.8.10"
  },
  "orig_nbformat": 4,
  "vscode": {
   "interpreter": {
    "hash": "916dbcbb3f70747c44a77c7bcd40155683ae19c65e1c03b4aa3499c5328201f1"
   }
  }
 },
 "nbformat": 4,
 "nbformat_minor": 2
}
