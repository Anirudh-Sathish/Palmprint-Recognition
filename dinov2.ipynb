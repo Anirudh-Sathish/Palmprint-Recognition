{
 "cells": [
  {
   "cell_type": "code",
   "execution_count": 8,
   "metadata": {},
   "outputs": [
    {
     "name": "stderr",
     "output_type": "stream",
     "text": [
      "Using cache found in C:\\Users\\khite/.cache\\torch\\hub\\facebookresearch_dinov2_main\n"
     ]
    }
   ],
   "source": [
    "import torch\n",
    "dinov2_model = torch.hub.load('facebookresearch/dinov2', 'dinov2_vitb14')"
   ]
  },
  {
   "cell_type": "code",
   "execution_count": 9,
   "metadata": {},
   "outputs": [],
   "source": [
    "from torchvision import transforms\n",
    "from PIL import Image\n",
    "\n",
    "preprocess = transforms.Compose([\n",
    "    transforms.Resize(256),\n",
    "    transforms.CenterCrop(224),\n",
    "    transforms.ToTensor(),\n",
    "    transforms.Normalize(mean=[0.485, 0.456, 0.406], std=[0.229, 0.224, 0.225]),\n",
    "])\n",
    "\n",
    "def load_and_preprocess_image(image_path):\n",
    "    img = Image.open(image_path).convert('RGB')\n",
    "    return preprocess(img).unsqueeze(0)"
   ]
  },
  {
   "cell_type": "code",
   "execution_count": 10,
   "metadata": {},
   "outputs": [],
   "source": [
    "def extract_features(model, image_tensor):\n",
    "    with torch.no_grad():\n",
    "        features = model(image_tensor)\n",
    "    return features.squeeze().numpy()"
   ]
  },
  {
   "cell_type": "code",
   "execution_count": 11,
   "metadata": {},
   "outputs": [],
   "source": [
    "import os\n",
    "\n",
    "def load_images_and_labels(folder_path):\n",
    "    images = []\n",
    "    labels = []\n",
    "\n",
    "    for class_label in os.listdir(folder_path):\n",
    "        class_folder = os.path.join(folder_path, class_label)\n",
    "        if os.path.isdir(class_folder):\n",
    "            for img_file in os.listdir(class_folder):\n",
    "                if img_file.endswith('.bmp'):\n",
    "                    img_path = os.path.join(class_folder, img_file)\n",
    "                    images.append(img_path)\n",
    "                    labels.append(int(class_label))\n",
    "\n",
    "    return images, labels"
   ]
  },
  {
   "cell_type": "code",
   "execution_count": 16,
   "metadata": {},
   "outputs": [],
   "source": [
    "train_folder = r'C:\\Users\\khite\\OneDrive\\Documents\\Sem 6\\Biometrics\\Palmprint-Recognition/basedata_ROI\\session1/train'\n",
    "test_folder = r'C:\\Users\\khite\\OneDrive\\Documents\\Sem 6\\Biometrics\\Palmprint-Recognition/basedata_ROI\\session1/test'\n",
    "val_folder = r'C:\\Users\\khite\\OneDrive\\Documents\\Sem 6\\Biometrics\\Palmprint-Recognition/basedata_ROI\\session1/val'\n",
    "\n",
    "train_images, train_labels = load_images_and_labels(train_folder)\n",
    "test_images, test_labels = load_images_and_labels(test_folder)\n",
    "val_images, val_labels = load_images_and_labels(val_folder)"
   ]
  },
  {
   "cell_type": "code",
   "execution_count": 17,
   "metadata": {},
   "outputs": [
    {
     "name": "stdout",
     "output_type": "stream",
     "text": [
      "Test accuracy: 0.98\n",
      "Validation accuracy: 0.98\n"
     ]
    },
    {
     "name": "stderr",
     "output_type": "stream",
     "text": [
      "c:\\ProgramData\\Anaconda3\\lib\\site-packages\\sklearn\\svm\\_base.py:1244: ConvergenceWarning: Liblinear failed to converge, increase the number of iterations.\n",
      "  warnings.warn(\n"
     ]
    }
   ],
   "source": [
    "# import linear svc\n",
    "from sklearn.svm import LinearSVC\n",
    "\n",
    "# Prepare your feature vectors and labels\n",
    "X_train = [extract_features(dinov2_model, load_and_preprocess_image(img_path)) for img_path in train_images]\n",
    "y_train = train_labels\n",
    "\n",
    "X_test = [extract_features(dinov2_model, load_and_preprocess_image(img_path)) for img_path in test_images]\n",
    "y_test = test_labels\n",
    "\n",
    "X_val = [extract_features(dinov2_model, load_and_preprocess_image(img_path)) for img_path in val_images]\n",
    "y_val = val_labels\n",
    "\n",
    "# Train the classifier\n",
    "classifier = LinearSVC()\n",
    "classifier.fit(X_train, y_train)\n",
    "\n",
    "# Evaluate the classifier on the test set\n",
    "test_accuracy = classifier.score(X_test, y_test)\n",
    "print(f\"Test accuracy: {test_accuracy:.2f}\")\n",
    "\n",
    "# Evaluate the classifier on the validation set\n",
    "val_accuracy = classifier.score(X_val, y_val)\n",
    "print(f\"Validation accuracy: {val_accuracy:.2f}\")"
   ]
  },
  {
   "cell_type": "code",
   "execution_count": null,
   "metadata": {},
   "outputs": [],
   "source": []
  }
 ],
 "metadata": {
  "kernelspec": {
   "display_name": "base",
   "language": "python",
   "name": "python3"
  },
  "language_info": {
   "codemirror_mode": {
    "name": "ipython",
    "version": 3
   },
   "file_extension": ".py",
   "mimetype": "text/x-python",
   "name": "python",
   "nbconvert_exporter": "python",
   "pygments_lexer": "ipython3",
   "version": "3.9.16"
  },
  "orig_nbformat": 4
 },
 "nbformat": 4,
 "nbformat_minor": 2
}
